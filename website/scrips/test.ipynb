{
 "cells": [
  {
   "cell_type": "code",
   "execution_count": 1,
   "id": "initial_id",
   "metadata": {
    "ExecuteTime": {
     "end_time": "2025-03-20T20:58:56.653067Z",
     "start_time": "2025-03-20T20:58:56.625160Z"
    },
    "collapsed": true,
    "jupyter": {
     "outputs_hidden": true
    }
   },
   "outputs": [
    {
     "name": "stdout",
     "output_type": "stream",
     "text": [
      "hallo\n"
     ]
    }
   ],
   "source": [
    "print('hallo')"
   ]
  },
  {
   "cell_type": "code",
   "execution_count": 4,
   "id": "ce5d3f228ebbd4e8",
   "metadata": {
    "ExecuteTime": {
     "end_time": "2025-03-21T08:19:12.208416Z",
     "start_time": "2025-03-21T08:19:12.176723Z"
    }
   },
   "outputs": [
    {
     "name": "stdout",
     "output_type": "stream",
     "text": [
      "<table border=\"1\" class=\"dataframe\">\n",
      "  <thead>\n",
      "    <tr style=\"text-align: right;\">\n",
      "      <th></th>\n",
      "      <th>a</th>\n",
      "      <th>b</th>\n",
      "    </tr>\n",
      "  </thead>\n",
      "  <tbody>\n",
      "    <tr>\n",
      "      <th>0</th>\n",
      "      <td>1</td>\n",
      "      <td>6</td>\n",
      "    </tr>\n",
      "    <tr>\n",
      "      <th>1</th>\n",
      "      <td>2</td>\n",
      "      <td>7</td>\n",
      "    </tr>\n",
      "    <tr>\n",
      "      <th>2</th>\n",
      "      <td>3</td>\n",
      "      <td>8</td>\n",
      "    </tr>\n",
      "    <tr>\n",
      "      <th>3</th>\n",
      "      <td>4</td>\n",
      "      <td>9</td>\n",
      "    </tr>\n",
      "    <tr>\n",
      "      <th>4</th>\n",
      "      <td>5</td>\n",
      "      <td>10</td>\n",
      "    </tr>\n",
      "  </tbody>\n",
      "</table>\n"
     ]
    }
   ],
   "source": [
    "import numpy as np\n",
    "import pandas as pd\n",
    "import matplotlib.pyplot as plt\n",
    "\n",
    "a = [1,2,3,4,5]\n",
    "b = [6,7,8,9,10]\n",
    "df = pd.DataFrame({'a':a,'b':b})\n",
    "html_string = df.to_html()\n",
    "print(html_string)\n"
   ]
  },
  {
   "cell_type": "code",
   "execution_count": 13,
   "id": "8ba8b23b5fbbfb14",
   "metadata": {
    "ExecuteTime": {
     "end_time": "2025-03-24T22:02:02.867658Z",
     "start_time": "2025-03-24T22:02:02.824828Z"
    }
   },
   "outputs": [
    {
     "name": "stdout",
     "output_type": "stream",
     "text": [
      "Quality base ['on', 'ignore', '4', '26', '21']\n",
      "on\n",
      "Sequence ['10', '20']\n",
      "10\n",
      "GC sequence ['15', '30']\n",
      "15\n",
      "Quality sequence ['27', '20']\n",
      "27\n",
      "Tile ['5', '10']\n",
      "5\n",
      "Sequence length ['1', '1']\n",
      "1\n",
      "Adapter ['5', '10']\n",
      "5\n"
     ]
    }
   ],
   "source": [
    "limits = {'Quality base': ['on', 'ignore', '4', '26', '21'],\n",
    "'Sequence': ['10', '20'],\n",
    "'GC sequence': ['15', '30'],\n",
    "'Quality sequence': ['27', '20'],\n",
    "'Tile': ['5', '10'],\n",
    "'Sequence length': ['1', '1'],\n",
    "'Adapter': ['5', '10']}\n",
    "for key, value in limits.items():\n",
    "    print(key, value)\n",
    "    value = value[0]\n",
    "    print(value)"
   ]
  },
  {
   "cell_type": "code",
   "execution_count": 14,
   "id": "f84261dc03b59549",
   "metadata": {
    "ExecuteTime": {
     "end_time": "2025-03-25T15:08:41.345800Z",
     "start_time": "2025-03-25T15:08:41.203579Z"
    }
   },
   "outputs": [
    {
     "data": {
      "text/plain": [
       "'cp1252'"
      ]
     },
     "execution_count": 14,
     "metadata": {},
     "output_type": "execute_result"
    }
   ],
   "source": [
    "import locale\n",
    "locale.getpreferredencoding()"
   ]
  },
  {
   "cell_type": "code",
   "execution_count": 25,
   "id": "bc9dcbafa11ac0e7",
   "metadata": {
    "ExecuteTime": {
     "end_time": "2025-03-26T12:46:11.704187Z",
     "start_time": "2025-03-26T12:46:11.680641Z"
    }
   },
   "outputs": [
    {
     "name": "stdout",
     "output_type": "stream",
     "text": [
      "Wed 26 March 2025\n",
      "2\n"
     ]
    }
   ],
   "source": [
    "from datetime import date\n",
    "today = date.today()\n",
    "today = today.strftime('%a %d %B %Y')\n"
   ]
  },
  {
   "cell_type": "code",
   "execution_count": 33,
   "id": "62d1773751dced5a",
   "metadata": {
    "ExecuteTime": {
     "end_time": "2025-03-26T13:10:34.381999Z",
     "start_time": "2025-03-26T13:10:34.343495Z"
    }
   },
   "outputs": [
    {
     "name": "stdout",
     "output_type": "stream",
     "text": [
      "pass\n"
     ]
    }
   ],
   "source": [
    "module = '>>Basic Statistics\\tpass;tick\\n'\n",
    "module2 = '>>next ding\\twarn\\n'\n",
    "list1 = []\n",
    "list1.append(module[-10:-1])\n",
    "list1.append(module2[-5:-1])\n",
    "print(list1[0][:4])"
   ]
  },
  {
   "cell_type": "code",
   "execution_count": 38,
   "id": "e6fd032b56850831",
   "metadata": {
    "ExecuteTime": {
     "end_time": "2025-03-26T14:25:18.888385Z",
     "start_time": "2025-03-26T14:25:18.856800Z"
    }
   },
   "outputs": [
    {
     "name": "stdout",
     "output_type": "stream",
     "text": [
      "next ding\t3\n",
      "\n"
     ]
    }
   ],
   "source": [
    "module = ['>>Basic Statistics\\tpass;tick\\n', '#next ding\\twarn\\n', 'next ding\\t3\\n']\n",
    "for line in module:\n",
    "    if not line.startswith('>>') and not line.startswith('#'):\n",
    "        print(line)"
   ]
  },
  {
   "cell_type": "code",
   "id": "59939f6dafee2420",
   "metadata": {
    "ExecuteTime": {
     "end_time": "2025-03-27T20:08:46.783733Z",
     "start_time": "2025-03-27T20:08:45.104511Z"
    }
   },
   "source": [
    "import matplotlib.pyplot as plt\n",
    "import matplotlib as mpl\n",
    "import pandas as pd\n",
    "import numpy as np\n",
    "import matplotlib.colors as colors\n",
    "data = {\n",
    "'a': [1,2,3,4,5,6,7,8,9,10,11,12,1,2,3,4,5,6,7,8,9,10,11,12,1,2,3,4,5,6,7,8,9,10,11,12],\n",
    "'b': [2,2,2,2,2,2,2,2,2,2,2,2,10,10,10,10,10,10,10,10,10,10,10,10,5,5,5,5,5,5,5,5,5,5,5,5],\n",
    "'c': [0,0,0,0,0,0,0,0,0,0,0,0,0,0,0,0,0,0,0,0,0,0,0,0,0,0,0,0,0,0,0,0,0,0,0,0]\n",
    "}\n",
    "# ma = np.meshgrid(a,b)\n",
    "z = pd.DataFrame(data)\n",
    "z = z.pivot(index='b', columns='a', values='c')\n",
    "print(z.columns.size)\n",
    "print(z.index.size)\n",
    "if z.index.size < 1/2 * z.columns.size:\n",
    "    ratio = (25/(5+1)) /2\n",
    "\n",
    "    # ratio = (z.columns.size/z.index.size)  - 1\n",
    "    print(ratio)\n",
    "fig, ax = plt.subplots(figsize=(8,6))\n",
    "# fig.set_size_inches(8, 6, forward=True)\n",
    "# ax.set_aspect(1)\n",
    "cmap = colors.LinearSegmentedColormap.from_list('custom blue', ['#F9000D', '#A4FF05', '#000BC9', '#A4FF05', '#F9000D'], N=256)\n",
    "heatmap = ax.matshow(z, cmap=cmap, origin='lower', norm=colors.CenteredNorm(), aspect=3)\n",
    "plt.colorbar(heatmap, ax=ax)\n",
    "\n",
    "\n",
    "plt.show()\n"
   ],
   "outputs": [
    {
     "name": "stdout",
     "output_type": "stream",
     "text": [
      "12\n",
      "3\n",
      "2.0833333333333335\n"
     ]
    },
    {
     "data": {
      "text/plain": [
       "<Figure size 800x600 with 2 Axes>"
      ],
      "image/png": "[encoded data removed]"
     },
     "metadata": {},
     "output_type": "display_data"
    }
   ],
   "execution_count": 149
  },
  {
   "metadata": {},
   "cell_type": "code",
   "outputs": [],
   "execution_count": null,
   "source": "",
   "id": "8f06b92763f73cbb"
  },
  {
   "cell_type": "code",
   "execution_count": 67,
   "id": "2c612f719e2a3d3b",
   "metadata": {
    "ExecuteTime": {
     "end_time": "2025-03-27T18:02:30.154747Z",
     "start_time": "2025-03-27T18:02:29.542962Z"
    }
   },
   "outputs": [
    {
     "name": "stderr",
     "output_type": "stream",
     "text": [
      "Ignoring fixed x limits to fulfill fixed data aspect with adjustable data limits.\n",
      "Ignoring fixed x limits to fulfill fixed data aspect with adjustable data limits.\n"
     ]
    },
    {
     "data": {
      "image/png": "[encoded data removed]",
      "text/plain": [
       "<Figure size 640x480 with 4 Axes>"
      ]
     },
     "metadata": {},
     "output_type": "display_data"
    }
   ],
   "source": [
    "import matplotlib.pyplot as plt\n",
    "import numpy as np\n",
    "\n",
    "# Plot circle of radius 3.\n",
    "\n",
    "an = np.linspace(0, 2 * np.pi, 100)\n",
    "fig, axs = plt.subplots(2, 2)\n",
    "\n",
    "# axs[0, 0].plot(3 * np.cos(an), 3 * np.sin(an))\n",
    "# axs[0, 0].set_title('not equal, looks like ellipse', fontsize=10)\n",
    "#\n",
    "# axs[0, 1].plot(3 * np.cos(an), 3 * np.sin(an))\n",
    "# axs[0, 1].axis('equal')\n",
    "# axs[0, 1].set_title('equal, looks like circle', fontsize=10)\n",
    "\n",
    "axs[1, 0].plot(3 * np.cos(an), 3 * np.sin(an))\n",
    "axs[1, 0].axis('equal')\n",
    "axs[1, 0].set(xlim=(-3, 3), ylim=(-3, 3))\n",
    "axs[1, 0].set_title('still a circle, even after changing limits', fontsize=10)\n",
    "\n",
    "axs[1, 1].plot(3 * np.cos(an), 3 * np.sin(an))\n",
    "axs[1, 1].set_aspect('equal', 'box')\n",
    "axs[1, 1].set_title('still a circle, auto-adjusted data limits', fontsize=10)\n",
    "\n",
    "fig.tight_layout()\n",
    "\n",
    "plt.show()"
   ]
  }
 ],
 "metadata": {
  "kernelspec": {
   "display_name": "Python 3 (ipykernel)",
   "language": "python",
   "name": "python3"
  },
  "language_info": {
   "codemirror_mode": {
    "name": "ipython",
    "version": 3
   },
   "file_extension": ".py",
   "mimetype": "text/x-python",
   "name": "python",
   "nbconvert_exporter": "python",
   "pygments_lexer": "ipython3",
   "version": "3.10.0"
  }
 },
 "nbformat": 4,
 "nbformat_minor": 5
}
