{
 "cells": [
  {
   "cell_type": "code",
   "id": "initial_id",
   "metadata": {
    "collapsed": true,
    "ExecuteTime": {
     "end_time": "2025-03-20T20:58:56.653067Z",
     "start_time": "2025-03-20T20:58:56.625160Z"
    }
   },
   "source": "print('hallo')",
   "outputs": [
    {
     "name": "stdout",
     "output_type": "stream",
     "text": [
      "hallo\n"
     ]
    }
   ],
   "execution_count": 1
  },
  {
   "metadata": {
    "ExecuteTime": {
     "end_time": "2025-03-21T08:19:12.208416Z",
     "start_time": "2025-03-21T08:19:12.176723Z"
    }
   },
   "cell_type": "code",
   "source": [
    "import numpy as np\n",
    "import pandas as pd\n",
    "import matplotlib.pyplot as plt\n",
    "\n",
    "a = [1,2,3,4,5]\n",
    "b = [6,7,8,9,10]\n",
    "df = pd.DataFrame({'a':a,'b':b})\n",
    "html_string = df.to_html()\n",
    "print(html_string)\n"
   ],
   "id": "ce5d3f228ebbd4e8",
   "outputs": [
    {
     "name": "stdout",
     "output_type": "stream",
     "text": [
      "<table border=\"1\" class=\"dataframe\">\n",
      "  <thead>\n",
      "    <tr style=\"text-align: right;\">\n",
      "      <th></th>\n",
      "      <th>a</th>\n",
      "      <th>b</th>\n",
      "    </tr>\n",
      "  </thead>\n",
      "  <tbody>\n",
      "    <tr>\n",
      "      <th>0</th>\n",
      "      <td>1</td>\n",
      "      <td>6</td>\n",
      "    </tr>\n",
      "    <tr>\n",
      "      <th>1</th>\n",
      "      <td>2</td>\n",
      "      <td>7</td>\n",
      "    </tr>\n",
      "    <tr>\n",
      "      <th>2</th>\n",
      "      <td>3</td>\n",
      "      <td>8</td>\n",
      "    </tr>\n",
      "    <tr>\n",
      "      <th>3</th>\n",
      "      <td>4</td>\n",
      "      <td>9</td>\n",
      "    </tr>\n",
      "    <tr>\n",
      "      <th>4</th>\n",
      "      <td>5</td>\n",
      "      <td>10</td>\n",
      "    </tr>\n",
      "  </tbody>\n",
      "</table>\n"
     ]
    }
   ],
   "execution_count": 4
  },
  {
   "metadata": {
    "ExecuteTime": {
     "end_time": "2025-03-24T22:02:02.867658Z",
     "start_time": "2025-03-24T22:02:02.824828Z"
    }
   },
   "cell_type": "code",
   "source": [
    "limits = {'Quality base': ['on', 'ignore', '4', '26', '21'],\n",
    "'Sequence': ['10', '20'],\n",
    "'GC sequence': ['15', '30'],\n",
    "'Quality sequence': ['27', '20'],\n",
    "'Tile': ['5', '10'],\n",
    "'Sequence length': ['1', '1'],\n",
    "'Adapter': ['5', '10']}\n",
    "for key, value in limits.items():\n",
    "    print(key, value)\n",
    "    value = value[0]\n",
    "    print(value)"
   ],
   "id": "8ba8b23b5fbbfb14",
   "outputs": [
    {
     "name": "stdout",
     "output_type": "stream",
     "text": [
      "Quality base ['on', 'ignore', '4', '26', '21']\n",
      "on\n",
      "Sequence ['10', '20']\n",
      "10\n",
      "GC sequence ['15', '30']\n",
      "15\n",
      "Quality sequence ['27', '20']\n",
      "27\n",
      "Tile ['5', '10']\n",
      "5\n",
      "Sequence length ['1', '1']\n",
      "1\n",
      "Adapter ['5', '10']\n",
      "5\n"
     ]
    }
   ],
   "execution_count": 13
  },
  {
   "metadata": {
    "ExecuteTime": {
     "end_time": "2025-03-25T15:08:41.345800Z",
     "start_time": "2025-03-25T15:08:41.203579Z"
    }
   },
   "cell_type": "code",
   "source": [
    "import locale\n",
    "locale.getpreferredencoding()"
   ],
   "id": "f84261dc03b59549",
   "outputs": [
    {
     "data": {
      "text/plain": [
       "'cp1252'"
      ]
     },
     "execution_count": 14,
     "metadata": {},
     "output_type": "execute_result"
    }
   ],
   "execution_count": 14
  },
  {
   "metadata": {
    "ExecuteTime": {
     "end_time": "2025-03-26T12:46:11.704187Z",
     "start_time": "2025-03-26T12:46:11.680641Z"
    }
   },
   "cell_type": "code",
   "source": [
    "from datetime import date\n",
    "today = date.today()\n",
    "today = today.strftime('%a %d %B %Y')\n"
   ],
   "id": "bc9dcbafa11ac0e7",
   "outputs": [
    {
     "name": "stdout",
     "output_type": "stream",
     "text": [
      "Wed 26 March 2025\n",
      "2\n"
     ]
    }
   ],
   "execution_count": 25
  },
  {
   "metadata": {
    "ExecuteTime": {
     "end_time": "2025-03-26T13:10:34.381999Z",
     "start_time": "2025-03-26T13:10:34.343495Z"
    }
   },
   "cell_type": "code",
   "source": [
    "module = '>>Basic Statistics\\tpass;tick\\n'\n",
    "module2 = '>>next ding\\twarn\\n'\n",
    "list1 = []\n",
    "list1.append(module[-10:-1])\n",
    "list1.append(module2[-5:-1])\n",
    "print(list1[0][:4])"
   ],
   "id": "62d1773751dced5a",
   "outputs": [
    {
     "name": "stdout",
     "output_type": "stream",
     "text": [
      "pass\n"
     ]
    }
   ],
   "execution_count": 33
  },
  {
   "metadata": {
    "ExecuteTime": {
     "end_time": "2025-03-26T14:25:18.888385Z",
     "start_time": "2025-03-26T14:25:18.856800Z"
    }
   },
   "cell_type": "code",
   "source": [
    "module = ['>>Basic Statistics\\tpass;tick\\n', '#next ding\\twarn\\n', 'next ding\\t3\\n']\n",
    "for line in module:\n",
    "    if not line.startswith('>>') and not line.startswith('#'):\n",
    "        print(line)"
   ],
   "id": "e6fd032b56850831",
   "outputs": [
    {
     "name": "stdout",
     "output_type": "stream",
     "text": [
      "next ding\t3\n",
      "\n"
     ]
    }
   ],
   "execution_count": 38
  }
 ],
 "metadata": {
  "kernelspec": {
   "display_name": "Python 3",
   "language": "python",
   "name": "python3"
  },
  "language_info": {
   "codemirror_mode": {
    "name": "ipython",
    "version": 2
   },
   "file_extension": ".py",
   "mimetype": "text/x-python",
   "name": "python",
   "nbconvert_exporter": "python",
   "pygments_lexer": "ipython2",
   "version": "2.7.6"
  }
 },
 "nbformat": 4,
 "nbformat_minor": 5
}
